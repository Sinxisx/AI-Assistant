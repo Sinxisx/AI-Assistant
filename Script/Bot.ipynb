{
 "cells": [
  {
   "cell_type": "code",
   "execution_count": 1,
   "metadata": {},
   "outputs": [],
   "source": [
    "from sqlalchemy import create_engine\n",
    "import os\n",
    "import json\n",
    "import pandas as pd\n",
    "import psycopg2\n",
    "import requests"
   ]
  },
  {
   "cell_type": "markdown",
   "metadata": {},
   "source": [
    "# 0. Generate SQL Query"
   ]
  },
  {
   "cell_type": "code",
   "execution_count": 2,
   "metadata": {},
   "outputs": [],
   "source": [
    "# Define the API endpoint\n",
    "api_url = \"http://localhost:11434/api/chat\""
   ]
  },
  {
   "cell_type": "code",
   "execution_count": 3,
   "metadata": {},
   "outputs": [],
   "source": [
    "instruction = '''You are a data analyst assistant handling funding data of a bank.\n",
    "The data is saved in a table named master_funding.\n",
    "Here are the fields in the table with their data types in JSON format:\n",
    "[\n",
    "  {\n",
    "    \"name\": \"BASE_DT\",\n",
    "    \"mode\": \"\",\n",
    "    \"type\": \"STRING\",\n",
    "    \"description\": \"The date of the data (YYYYMMDD)\",\n",
    "    \"fields\": []\n",
    "  },\n",
    "  {\n",
    "    \"name\": \"BASE_DT_PARSED\",\n",
    "    \"mode\": \"\",\n",
    "    \"type\": \"DATE\",\n",
    "    \"description\": \"The date of the data parsed as date\",\n",
    "    \"fields\": []\n",
    "  },\n",
    "  {\n",
    "    \"name\": \"BASE_YM\",\n",
    "    \"mode\": \"\",\n",
    "    \"type\": \"STRING\",\n",
    "    \"description\": \"The year-month of the data (YYYYMM)\",\n",
    "    \"fields\": []\n",
    "  },\n",
    "  {\n",
    "    \"name\": \"AGREE_ID\",\n",
    "    \"mode\": \"\",\n",
    "    \"type\": \"STRING\",\n",
    "    \"description\": \"Unique identifier of the funding account\",\n",
    "    \"fields\": []\n",
    "  },\n",
    "  {\n",
    "    \"name\": \"FLAG\",\n",
    "    \"mode\": \"\",\n",
    "    \"type\": \"STRING\",\n",
    "    \"description\": \"Flag of account type (Sharia/Conventional)\",\n",
    "    \"fields\": []\n",
    "  },\n",
    "  {\n",
    "    \"name\": \"REGION\",\n",
    "    \"mode\": \"\",\n",
    "    \"type\": \"STRING\",\n",
    "    \"description\": \"Region location of the funding account\",\n",
    "    \"fields\": []\n",
    "  },\n",
    "  {\n",
    "    \"name\": \"AREA\",\n",
    "    \"mode\": \"\",\n",
    "    \"type\": \"STRING\",\n",
    "    \"description\": \"Area location of the funding account\",\n",
    "    \"fields\": []\n",
    "  },\n",
    "  {\n",
    "    \"name\": \"BRANCH\",\n",
    "    \"mode\": \"\",\n",
    "    \"type\": \"STRING\",\n",
    "    \"description\": \"Branch location of the funding account\",\n",
    "    \"fields\": []\n",
    "  },\n",
    "  {\n",
    "    \"name\": \"CIF_NO\",\n",
    "    \"mode\": \"\",\n",
    "    \"type\": \"STRING\",\n",
    "    \"description\": \"Unique customer identifier\",\n",
    "    \"fields\": []\n",
    "  },\n",
    "  {\n",
    "    \"name\": \"CUST_TYPE\",\n",
    "    \"mode\": \"\",\n",
    "    \"type\": \"STRING\",\n",
    "    \"description\": \"Type of customer (Individual/Non-Individual)\",\n",
    "    \"fields\": []\n",
    "  },\n",
    "  {\n",
    "    \"name\": \"PROD_NM\",\n",
    "    \"mode\": \"\",\n",
    "    \"type\": \"STRING\",\n",
    "    \"description\": \"Product name of the funding account\",\n",
    "    \"fields\": []\n",
    "  },\n",
    "  {\n",
    "    \"name\": \"SUB_PROD_NM\",\n",
    "    \"mode\": \"\",\n",
    "    \"type\": \"STRING\",\n",
    "    \"description\": \"Sub product name of the funding account\",\n",
    "    \"fields\": []\n",
    "  },\n",
    "  {\n",
    "    \"name\": \"SEGMENT\",\n",
    "    \"mode\": \"\",\n",
    "    \"type\": \"STRING\",\n",
    "    \"description\": \"Segment of the customer\",\n",
    "    \"fields\": []\n",
    "  },\n",
    "  {\n",
    "    \"name\": \"GCIF_NAME\",\n",
    "    \"mode\": \"\",\n",
    "    \"type\": \"STRING\",\n",
    "    \"description\": \"Name of the customer\",\n",
    "    \"fields\": []\n",
    "  },\n",
    "  {\n",
    "    \"name\": \"PROD_TYPE\",\n",
    "    \"mode\": \"\",\n",
    "    \"type\": \"STRING\",\n",
    "    \"description\": \"Product type of the account (CA/SA/TD)\",\n",
    "    \"fields\": []\n",
    "  },\n",
    "  {\n",
    "    \"name\": \"CURR_CODE\",\n",
    "    \"mode\": \"\",\n",
    "    \"type\": \"STRING\",\n",
    "    \"description\": \"Currency code\",\n",
    "    \"fields\": []\n",
    "  },\n",
    "  {\n",
    "    \"name\": \"COLT\",\n",
    "    \"mode\": \"\",\n",
    "    \"type\": \"STRING\",\n",
    "    \"description\": \"Collateral status (1 or 0)\",\n",
    "    \"fields\": []\n",
    "  },\n",
    "  {\n",
    "    \"name\": \"RATE_DPK\",\n",
    "    \"mode\": \"\",\n",
    "    \"type\": \"FLOAT\",\n",
    "    \"description\": \"Interest rate of the account\",\n",
    "    \"fields\": []\n",
    "  },\n",
    "  {\n",
    "    \"name\": \"BASE_AMT_FIX\",\n",
    "    \"mode\": \"\",\n",
    "    \"type\": \"FLOAT\",\n",
    "    \"description\": \"End of day funding amount of the account\",\n",
    "    \"fields\": []\n",
    "  },\n",
    "  {\n",
    "    \"name\": \"MTD_AVG_AMT_FIX\",\n",
    "    \"mode\": \"\",\n",
    "    \"type\": \"FLOAT\",\n",
    "    \"description\": \"Month-to-date funding amount of the account\",\n",
    "    \"fields\": []\n",
    "  },\n",
    "  {\n",
    "    \"name\": \"DTD\",\n",
    "    \"mode\": \"\",\n",
    "    \"type\": \"FLOAT\",\n",
    "    \"description\": \"Day-to-date funding amount change of the account\",\n",
    "    \"fields\": []\n",
    "  },\n",
    "  {\n",
    "    \"name\": \"MTD\",\n",
    "    \"mode\": \"\",\n",
    "    \"type\": \"FLOAT\",\n",
    "    \"description\": \"Month-to-date funding amount change of the account\",\n",
    "    \"fields\": []\n",
    "  },\n",
    "  {\n",
    "    \"name\": \"YTD\",\n",
    "    \"mode\": \"\",\n",
    "    \"type\": \"FLOAT\",\n",
    "    \"description\": \"Year-to-date funding amount change of the account\",\n",
    "    \"fields\": []\n",
    "  },\n",
    "  {\n",
    "    \"name\": \"DIVISION\",\n",
    "    \"mode\": \"\",\n",
    "    \"type\": \"STRING\",\n",
    "    \"description\": \"The division of the funding customer\",\n",
    "    \"fields\": []\n",
    "  },\n",
    "  {\n",
    "    \"name\": \"SOURCE\",\n",
    "    \"mode\": \"\",\n",
    "    \"type\": \"STRING\",\n",
    "    \"description\": \"Source of data\",\n",
    "    \"fields\": []\n",
    "  },\n",
    "  {\n",
    "    \"name\": \"SEGMENT_FIX\",\n",
    "    \"mode\": \"\",\n",
    "    \"type\": \"STRING\",\n",
    "    \"description\": \"Segment of funding the customer\",\n",
    "    \"fields\": []\n",
    "  },\n",
    "  {\n",
    "    \"name\": \"BASE_AMT_ACCUM_MTD\",\n",
    "    \"mode\": \"\",\n",
    "    \"type\": \"FLOAT\",\n",
    "    \"description\": \"Month-to-date accumulation of funding amount\",\n",
    "    \"fields\": []\n",
    "  },\n",
    "  {\n",
    "    \"name\": \"INT_EXP_ACCUM_MTD\",\n",
    "    \"mode\": \"\",\n",
    "    \"type\": \"FLOAT\",\n",
    "    \"description\": \"Month-to-date accumulation of interest expense\",\n",
    "    \"fields\": []\n",
    "  },\n",
    "  {\n",
    "    \"name\": \"COF_MTD\",\n",
    "    \"mode\": \"\",\n",
    "    \"type\": \"FLOAT\",\n",
    "    \"description\": \"Month-to-date cost of fund of the funding account\",\n",
    "    \"fields\": []\n",
    "  },\n",
    "  {\n",
    "    \"name\": \"HIGH_COF_FLAG\",\n",
    "    \"mode\": \"\",\n",
    "    \"type\": \"STRING\",\n",
    "    \"description\": \"Category of month-to-date cost of fund\",\n",
    "    \"fields\": []\n",
    "  },\n",
    "  {\n",
    "    \"name\": \"LOB_SORT\",\n",
    "    \"mode\": \"\",\n",
    "    \"type\": \"STRING\",\n",
    "    \"description\": \"Code for sorting the customer segment\",\n",
    "    \"fields\": []\n",
    "  },\n",
    "  {\n",
    "    \"name\": \"CASA_TD\",\n",
    "    \"mode\": \"\",\n",
    "    \"type\": \"STRING\",\n",
    "    \"description\": \"Category of the funding account (CASA/TD)\",\n",
    "    \"fields\": []\n",
    "  },\n",
    "  {\n",
    "    \"name\": \"DTD_10B\",\n",
    "    \"mode\": \"\",\n",
    "    \"type\": \"STRING\",\n",
    "    \"description\": \"Flag of day-to-date 10 billion funding loss\",\n",
    "    \"fields\": []\n",
    "  },\n",
    "  {\n",
    "    \"name\": \"MTD_10B\",\n",
    "    \"mode\": \"\",\n",
    "    \"type\": \"STRING\",\n",
    "    \"description\": \"Flag of month-to-date 10 billion funding loss\",\n",
    "    \"fields\": []\n",
    "  },\n",
    "  {\n",
    "    \"name\": \"BLOCK\",\n",
    "    \"mode\": \"\",\n",
    "    \"type\": \"STRING\",\n",
    "    \"description\": \"Flag of account block status\",\n",
    "    \"fields\": []\n",
    "  }\n",
    "]\n",
    "When given a question about the funding data, answer in SQL script to retrieve the stat asked.\n",
    "If the question is not related to the funding data, answer that you can't help the user\n",
    "'''\n"
   ]
  },
  {
   "cell_type": "code",
   "execution_count": 4,
   "metadata": {},
   "outputs": [],
   "source": [
    "conversation_history = [{'role':'system',\n",
    "                         'content':instruction}]"
   ]
  },
  {
   "cell_type": "code",
   "execution_count": 5,
   "metadata": {},
   "outputs": [],
   "source": [
    "user_input = 'What is the number of the funding customer?'"
   ]
  },
  {
   "cell_type": "code",
   "execution_count": 6,
   "metadata": {},
   "outputs": [],
   "source": [
    "conversation_history.append({\"role\":\"user\",\"content\":user_input})"
   ]
  },
  {
   "cell_type": "code",
   "execution_count": 7,
   "metadata": {},
   "outputs": [],
   "source": [
    "payload = {\n",
    "    \"model\":\"deepseek-r1:8b\",\n",
    "    \"messages\":conversation_history,\n",
    "    \"stream\":False\n",
    "}"
   ]
  },
  {
   "cell_type": "code",
   "execution_count": 8,
   "metadata": {},
   "outputs": [],
   "source": [
    "\n",
    "response = requests.post(api_url,json=payload)"
   ]
  },
  {
   "cell_type": "code",
   "execution_count": 9,
   "metadata": {},
   "outputs": [
    {
     "data": {
      "text/plain": [
       "{'model': 'deepseek-r1:8b',\n",
       " 'messages': [{'role': 'system',\n",
       "   'content': 'You are a data analyst assistant handling funding data of a bank.\\nThe data is saved in a table named master_funding.\\nHere are the fields in the table with their data types in JSON format:\\n[\\n  {\\n    \"name\": \"BASE_DT\",\\n    \"mode\": \"\",\\n    \"type\": \"STRING\",\\n    \"description\": \"The date of the data (YYYYMMDD)\",\\n    \"fields\": []\\n  },\\n  {\\n    \"name\": \"BASE_DT_PARSED\",\\n    \"mode\": \"\",\\n    \"type\": \"DATE\",\\n    \"description\": \"The date of the data parsed as date\",\\n    \"fields\": []\\n  },\\n  {\\n    \"name\": \"BASE_YM\",\\n    \"mode\": \"\",\\n    \"type\": \"STRING\",\\n    \"description\": \"The year-month of the data (YYYYMM)\",\\n    \"fields\": []\\n  },\\n  {\\n    \"name\": \"AGREE_ID\",\\n    \"mode\": \"\",\\n    \"type\": \"STRING\",\\n    \"description\": \"Unique identifier of the funding account\",\\n    \"fields\": []\\n  },\\n  {\\n    \"name\": \"FLAG\",\\n    \"mode\": \"\",\\n    \"type\": \"STRING\",\\n    \"description\": \"Flag of account type (Sharia/Conventional)\",\\n    \"fields\": []\\n  },\\n  {\\n    \"name\": \"REGION\",\\n    \"mode\": \"\",\\n    \"type\": \"STRING\",\\n    \"description\": \"Region location of the funding account\",\\n    \"fields\": []\\n  },\\n  {\\n    \"name\": \"AREA\",\\n    \"mode\": \"\",\\n    \"type\": \"STRING\",\\n    \"description\": \"Area location of the funding account\",\\n    \"fields\": []\\n  },\\n  {\\n    \"name\": \"BRANCH\",\\n    \"mode\": \"\",\\n    \"type\": \"STRING\",\\n    \"description\": \"Branch location of the funding account\",\\n    \"fields\": []\\n  },\\n  {\\n    \"name\": \"CIF_NO\",\\n    \"mode\": \"\",\\n    \"type\": \"STRING\",\\n    \"description\": \"Unique customer identifier\",\\n    \"fields\": []\\n  },\\n  {\\n    \"name\": \"CUST_TYPE\",\\n    \"mode\": \"\",\\n    \"type\": \"STRING\",\\n    \"description\": \"Type of customer (Individual/Non-Individual)\",\\n    \"fields\": []\\n  },\\n  {\\n    \"name\": \"PROD_NM\",\\n    \"mode\": \"\",\\n    \"type\": \"STRING\",\\n    \"description\": \"Product name of the funding account\",\\n    \"fields\": []\\n  },\\n  {\\n    \"name\": \"SUB_PROD_NM\",\\n    \"mode\": \"\",\\n    \"type\": \"STRING\",\\n    \"description\": \"Sub product name of the funding account\",\\n    \"fields\": []\\n  },\\n  {\\n    \"name\": \"SEGMENT\",\\n    \"mode\": \"\",\\n    \"type\": \"STRING\",\\n    \"description\": \"Segment of the customer\",\\n    \"fields\": []\\n  },\\n  {\\n    \"name\": \"GCIF_NAME\",\\n    \"mode\": \"\",\\n    \"type\": \"STRING\",\\n    \"description\": \"Name of the customer\",\\n    \"fields\": []\\n  },\\n  {\\n    \"name\": \"PROD_TYPE\",\\n    \"mode\": \"\",\\n    \"type\": \"STRING\",\\n    \"description\": \"Product type of the account (CA/SA/TD)\",\\n    \"fields\": []\\n  },\\n  {\\n    \"name\": \"CURR_CODE\",\\n    \"mode\": \"\",\\n    \"type\": \"STRING\",\\n    \"description\": \"Currency code\",\\n    \"fields\": []\\n  },\\n  {\\n    \"name\": \"COLT\",\\n    \"mode\": \"\",\\n    \"type\": \"STRING\",\\n    \"description\": \"Collateral status (1 or 0)\",\\n    \"fields\": []\\n  },\\n  {\\n    \"name\": \"RATE_DPK\",\\n    \"mode\": \"\",\\n    \"type\": \"FLOAT\",\\n    \"description\": \"Interest rate of the account\",\\n    \"fields\": []\\n  },\\n  {\\n    \"name\": \"BASE_AMT_FIX\",\\n    \"mode\": \"\",\\n    \"type\": \"FLOAT\",\\n    \"description\": \"End of day funding amount of the account\",\\n    \"fields\": []\\n  },\\n  {\\n    \"name\": \"MTD_AVG_AMT_FIX\",\\n    \"mode\": \"\",\\n    \"type\": \"FLOAT\",\\n    \"description\": \"Month-to-date funding amount of the account\",\\n    \"fields\": []\\n  },\\n  {\\n    \"name\": \"DTD\",\\n    \"mode\": \"\",\\n    \"type\": \"FLOAT\",\\n    \"description\": \"Day-to-date funding amount change of the account\",\\n    \"fields\": []\\n  },\\n  {\\n    \"name\": \"MTD\",\\n    \"mode\": \"\",\\n    \"type\": \"FLOAT\",\\n    \"description\": \"Month-to-date funding amount change of the account\",\\n    \"fields\": []\\n  },\\n  {\\n    \"name\": \"YTD\",\\n    \"mode\": \"\",\\n    \"type\": \"FLOAT\",\\n    \"description\": \"Year-to-date funding amount change of the account\",\\n    \"fields\": []\\n  },\\n  {\\n    \"name\": \"DIVISION\",\\n    \"mode\": \"\",\\n    \"type\": \"STRING\",\\n    \"description\": \"The division of the funding customer\",\\n    \"fields\": []\\n  },\\n  {\\n    \"name\": \"SOURCE\",\\n    \"mode\": \"\",\\n    \"type\": \"STRING\",\\n    \"description\": \"Source of data\",\\n    \"fields\": []\\n  },\\n  {\\n    \"name\": \"SEGMENT_FIX\",\\n    \"mode\": \"\",\\n    \"type\": \"STRING\",\\n    \"description\": \"Segment of funding the customer\",\\n    \"fields\": []\\n  },\\n  {\\n    \"name\": \"BASE_AMT_ACCUM_MTD\",\\n    \"mode\": \"\",\\n    \"type\": \"FLOAT\",\\n    \"description\": \"Month-to-date accumulation of funding amount\",\\n    \"fields\": []\\n  },\\n  {\\n    \"name\": \"INT_EXP_ACCUM_MTD\",\\n    \"mode\": \"\",\\n    \"type\": \"FLOAT\",\\n    \"description\": \"Month-to-date accumulation of interest expense\",\\n    \"fields\": []\\n  },\\n  {\\n    \"name\": \"COF_MTD\",\\n    \"mode\": \"\",\\n    \"type\": \"FLOAT\",\\n    \"description\": \"Month-to-date cost of fund of the funding account\",\\n    \"fields\": []\\n  },\\n  {\\n    \"name\": \"HIGH_COF_FLAG\",\\n    \"mode\": \"\",\\n    \"type\": \"STRING\",\\n    \"description\": \"Category of month-to-date cost of fund\",\\n    \"fields\": []\\n  },\\n  {\\n    \"name\": \"LOB_SORT\",\\n    \"mode\": \"\",\\n    \"type\": \"STRING\",\\n    \"description\": \"Code for sorting the customer segment\",\\n    \"fields\": []\\n  },\\n  {\\n    \"name\": \"CASA_TD\",\\n    \"mode\": \"\",\\n    \"type\": \"STRING\",\\n    \"description\": \"Category of the funding account (CASA/TD)\",\\n    \"fields\": []\\n  },\\n  {\\n    \"name\": \"DTD_10B\",\\n    \"mode\": \"\",\\n    \"type\": \"STRING\",\\n    \"description\": \"Flag of day-to-date 10 billion funding loss\",\\n    \"fields\": []\\n  },\\n  {\\n    \"name\": \"MTD_10B\",\\n    \"mode\": \"\",\\n    \"type\": \"STRING\",\\n    \"description\": \"Flag of month-to-date 10 billion funding loss\",\\n    \"fields\": []\\n  },\\n  {\\n    \"name\": \"BLOCK\",\\n    \"mode\": \"\",\\n    \"type\": \"STRING\",\\n    \"description\": \"Flag of account block status\",\\n    \"fields\": []\\n  }\\n]\\nWhen given a question about the funding data, answer in SQL script to retrieve the stat asked.\\nIf the question is not related to the funding data, answer that you can\\'t help the user\\n'},\n",
       "  {'role': 'user', 'content': 'What is the number of the funding customer?'}],\n",
       " 'stream': False}"
      ]
     },
     "execution_count": 9,
     "metadata": {},
     "output_type": "execute_result"
    }
   ],
   "source": [
    "payload"
   ]
  },
  {
   "cell_type": "code",
   "execution_count": 10,
   "metadata": {},
   "outputs": [
    {
     "data": {
      "text/plain": [
       "<Response [200]>"
      ]
     },
     "execution_count": 10,
     "metadata": {},
     "output_type": "execute_result"
    }
   ],
   "source": [
    "response"
   ]
  },
  {
   "cell_type": "code",
   "execution_count": 13,
   "metadata": {},
   "outputs": [
    {
     "data": {
      "text/plain": [
       "{'model': 'deepseek-r1:8b',\n",
       " 'created_at': '2025-02-02T15:03:40.6607344Z',\n",
       " 'message': {'role': 'assistant',\n",
       "  'content': '<think>\\nOkay, so I\\'m trying to figure out how to find the number of funding customers based on the provided table schema. Let\\'s break this down step by step.\\n\\nFirst, the user asked for \"the number of the funding customer.\" That sounds like they want a count of all the customers who have funding accounts. So, in SQL terms, I need to write a query that counts how many rows are in the master_funding table.\\n\\nLooking at the table schema, each row represents a funding account with various fields like AGREE_ID, CIF_NO, etc. But since the user didn\\'t specify any particular filter or condition, I should count all entries regardless of other attributes.\\n\\nI remember that in SQL, the COUNT() function is used to count rows. So, using COUNT(1) is a common practice because it\\'s less error-prone and works across different SQL dialects. Alternatively, COUNT(*) also works, but sometimes it can be confusing or have performance implications depending on the database setup.\\n\\nI should make sure that the query doesn\\'t specify any particular columns or conditions unless told otherwise. So, the basic structure would be SELECT COUNT(1) FROM master_funding;.\\n\\nWait, let me double-check if there are any constraints. The table might have a primary key or unique identifier like AGREE_ID, but since the user didn\\'t specify uniqueness, I don\\'t need to consider it here. It\\'s just a straightforward count of all customers regardless of their other attributes.\\n\\nSo, putting it all together, the SQL query should select the count of rows from master_funding without any filters.\\n</think>\\n\\nTo find the number of funding customers in the `master_funding` table, you can use an SQL SELECT statement that counts the total number of entries. Here\\'s how:\\n\\n```sql\\nSELECT COUNT(1) AS Number_of_Customers FROM master_funding;\\n```\\n\\nThis query will return the count of all rows in the `master_funding` table, representing the total number of funding customers.'},\n",
       " 'done_reason': 'stop',\n",
       " 'done': True,\n",
       " 'total_duration': 22817477800,\n",
       " 'load_duration': 5689780000,\n",
       " 'prompt_eval_count': 1600,\n",
       " 'prompt_eval_duration': 1348000000,\n",
       " 'eval_count': 408,\n",
       " 'eval_duration': 14694000000}"
      ]
     },
     "execution_count": 13,
     "metadata": {},
     "output_type": "execute_result"
    }
   ],
   "source": [
    "response.json()"
   ]
  },
  {
   "cell_type": "code",
   "execution_count": 11,
   "metadata": {},
   "outputs": [],
   "source": [
    "# Get the model's reply\n",
    "model_reply = response.json()[\"message\"][\"content\"]"
   ]
  },
  {
   "cell_type": "code",
   "execution_count": 12,
   "metadata": {},
   "outputs": [
    {
     "data": {
      "text/plain": [
       "'<think>\\nOkay, so I\\'m trying to figure out how to find the number of funding customers based on the provided table schema. Let\\'s break this down step by step.\\n\\nFirst, the user asked for \"the number of the funding customer.\" That sounds like they want a count of all the customers who have funding accounts. So, in SQL terms, I need to write a query that counts how many rows are in the master_funding table.\\n\\nLooking at the table schema, each row represents a funding account with various fields like AGREE_ID, CIF_NO, etc. But since the user didn\\'t specify any particular filter or condition, I should count all entries regardless of other attributes.\\n\\nI remember that in SQL, the COUNT() function is used to count rows. So, using COUNT(1) is a common practice because it\\'s less error-prone and works across different SQL dialects. Alternatively, COUNT(*) also works, but sometimes it can be confusing or have performance implications depending on the database setup.\\n\\nI should make sure that the query doesn\\'t specify any particular columns or conditions unless told otherwise. So, the basic structure would be SELECT COUNT(1) FROM master_funding;.\\n\\nWait, let me double-check if there are any constraints. The table might have a primary key or unique identifier like AGREE_ID, but since the user didn\\'t specify uniqueness, I don\\'t need to consider it here. It\\'s just a straightforward count of all customers regardless of their other attributes.\\n\\nSo, putting it all together, the SQL query should select the count of rows from master_funding without any filters.\\n</think>\\n\\nTo find the number of funding customers in the `master_funding` table, you can use an SQL SELECT statement that counts the total number of entries. Here\\'s how:\\n\\n```sql\\nSELECT COUNT(1) AS Number_of_Customers FROM master_funding;\\n```\\n\\nThis query will return the count of all rows in the `master_funding` table, representing the total number of funding customers.'"
      ]
     },
     "execution_count": 12,
     "metadata": {},
     "output_type": "execute_result"
    }
   ],
   "source": [
    "model_reply"
   ]
  },
  {
   "cell_type": "code",
   "execution_count": null,
   "metadata": {},
   "outputs": [],
   "source": [
    "# Add the model's reply to the conversation history\n",
    "conversation_history.append({\"role\": \"assistant\", \"content\": model_reply})"
   ]
  },
  {
   "cell_type": "code",
   "execution_count": null,
   "metadata": {},
   "outputs": [],
   "source": [
    "model_reply"
   ]
  },
  {
   "cell_type": "markdown",
   "metadata": {},
   "source": [
    "# 1. Connect to Database"
   ]
  },
  {
   "cell_type": "code",
   "execution_count": 2,
   "metadata": {},
   "outputs": [],
   "source": [
    "# connection info\n",
    "host= 'localhost'\n",
    "port= '5432'\n",
    "database= 'postgres'\n",
    "username= 'postgres'\n",
    "password= os.environ['PGPW']"
   ]
  },
  {
   "cell_type": "code",
   "execution_count": 19,
   "metadata": {},
   "outputs": [
    {
     "name": "stdout",
     "output_type": "stream",
     "text": [
      "Connection to PostgreSQL DB successful\n"
     ]
    }
   ],
   "source": [
    "queryResult= []\n",
    "try:\n",
    "    # Establish the connection\n",
    "    connection = psycopg2.connect(\n",
    "        user=\"postgres\",\n",
    "        password= os.environ['PGPW'],\n",
    "        host= \"localhost\",\n",
    "        port=\"5432\",\n",
    "        database=\"postgres\"\n",
    "    )\n",
    "    print(\"Connection to PostgreSQL DB successful\")\n",
    "\n",
    "    # Create a cursor object\n",
    "    cursor = connection.cursor()\n",
    "\n",
    "    # Execute a SQL query\n",
    "    cursor.execute('SELECT * FROM master_funding;')\n",
    "    rows = cursor.fetchall()\n",
    "\n",
    "    # Process the result\n",
    "    for row in rows:\n",
    "        queryResult.append(row)\n",
    "\n",
    "except Exception as e:\n",
    "    print(f\"Error: {e}\")\n",
    "\n",
    "finally:\n",
    "    # Close the cursor and connection\n",
    "    if cursor:\n",
    "        cursor.close()\n",
    "    if connection:\n",
    "        connection.close()\n"
   ]
  },
  {
   "cell_type": "code",
   "execution_count": 3,
   "metadata": {},
   "outputs": [],
   "source": [
    "engine = create_engine(f\"postgresql://{username}:{password}@{host}:{port}/{database}\")"
   ]
  },
  {
   "cell_type": "code",
   "execution_count": null,
   "metadata": {},
   "outputs": [],
   "source": [
    "data = pd.read_sql()"
   ]
  },
  {
   "cell_type": "code",
   "execution_count": 23,
   "metadata": {},
   "outputs": [],
   "source": []
  },
  {
   "cell_type": "code",
   "execution_count": 24,
   "metadata": {},
   "outputs": [],
   "source": [
    "user_input = f'With the following data: {queryResult}, determine the number of unique CIF_NO'\n",
    "response = ollama.generate(model=model, prompt=user_input)"
   ]
  },
  {
   "cell_type": "code",
   "execution_count": 25,
   "metadata": {},
   "outputs": [
    {
     "name": "stdout",
     "output_type": "stream",
     "text": [
      "<think>\n",
      "Alright, so I need to figure out how many unique CIF_NO values are in this given list. First off, I'm not exactly sure what a CIF_NO is, but from context, it seems like it's some kind of identifier or code, probably related to banking or financial transactions in Indonesia.\n",
      "\n",
      "Looking at the data provided, each entry has several fields, and one of them is labeled as \"CIF_NO\". My task is to extract all the CIF_NO values and then determine how many unique ones there are. \n",
      "\n",
      "I'll start by scanning through each line of the dataset to identify where the \"CIF_NO\" field appears. It might not always be in the same position, so I need to check every entry carefully.\n",
      "\n",
      "Let me go through them one by one:\n",
      "\n",
      "1. The first entry has a CIF_NO of 'XXX-GB-CORP'. That's interesting—it's not a numeric value but a string that includes \"CIF\" followed by some letters and numbers.\n",
      "2. Next, another entry also shows 'XXX-GB-CORP', so this is likely the same identifier repeated.\n",
      "\n",
      "Wait, no—maybe not. Let me check further entries to see if there are other unique ones or duplicates.\n",
      "\n",
      "Continuing down:\n",
      "\n",
      "3. Then there's a 'CIF_NO' of 'LLC & MNC'. Hmm, that's different from the previous one.\n",
      "4. Another entry has 'UNDEFINED' as the CIF_NO. That seems unique so far.\n",
      "5. There's also an entry with 'CASA'. I don't recall seeing that before.\n",
      "6. Some entries have numbers like 1 or 3, but these might be status codes rather than CIF_NOs.\n",
      "\n",
      "I need to pay attention to whether some of these are numeric and others are strings. The question is about the number of unique identifiers, regardless of their format, as long as they're under the \"CIF_NO\" field.\n",
      "\n",
      "Now, listing all the \"CIF_NO\" values:\n",
      "\n",
      "- 'XXX-GB-CORP'\n",
      "- 'LLC & MNC'\n",
      "- 'UNDEFINED'\n",
      "- 'CASA'\n",
      "- 4 (from an entry where it's a number)\n",
      "- 1\n",
      "- 3\n",
      "\n",
      "Wait, but some of these might not be unique. For example, if 'XXX-GB-CORP' appears multiple times, that counts as one unique value. Similarly, if 'LLC & MNC', 'UNDEFINED', and 'CASA' are each only mentioned once, they each count as unique.\n",
      "\n",
      "But then there are numeric values like 4, 1, 3. Are these considered unique? Or is the format such that numbers aren't considered unique in the same way as strings?\n",
      "\n",
      "The user hasn't specified whether numeric identifiers should be treated differently or not. Since the question just asks for unique CIF_NOs regardless of type, I think all should be counted.\n",
      "\n",
      "But wait—another angle: if \"CIF_NO\" is meant to be a numerical identifier, then maybe only the numeric values are considered, and the string ones aren't. Or perhaps it's based on the actual data provided without making assumptions.\n",
      "\n",
      "Looking back at the initial dataset, most of the entries under CIF_NO are strings like 'XXX-GB-CORP', 'LLC & MNC', etc., except for some that have numbers like 1, 3, and 4. It's a bit confusing because it's unclear whether these numbers represent different entities or are placeholders.\n",
      "\n",
      "But regardless, I need to count all distinct values in the \"CIF_NO\" field. So let me list them:\n",
      "\n",
      "From the dataset:\n",
      "- 'XXX-GB-CORP' (appears multiple times)\n",
      "- 'LLC & MNC'\n",
      "- 'UNDEFINED'\n",
      "- 'CASA'\n",
      "- 1\n",
      "- 3\n",
      "- 4\n",
      "\n",
      "So that's seven unique values.\n",
      "\n",
      "Wait, but I might have missed some. Let me double-check:\n",
      "\n",
      "Looking through each entry again to ensure I didn't miss any \"CIF_NO\":\n",
      "\n",
      "Entry 1: 'XXX-GB-CORP'\n",
      "Entry 2: same as above\n",
      "Entry 3: 'LLC & MNC'\n",
      "Entry 4: 'UNDEFINED'\n",
      "Entry 5: 'CASA'\n",
      "Entry 6: 1\n",
      "Entry 7: 3\n",
      "Entry 8: 4\n",
      "\n",
      "Is there another unique one? Let me check if any other \"CIF_NO\" fields have different values.\n",
      "\n",
      "Looking at the last few entries:\n",
      "\n",
      "- 'JITFDYBA' (not a CIF_NO)\n",
      "- 'IM7S8DVBSOLPCN3Y' (nope)\n",
      "- 'LEJOAEYFJOB' (nope)\n",
      "- 'WAN DXQUHRXVJJOM ' (nope)\n",
      "- 'FNOC CVUQ' (nope)\n",
      "- 'NMR5CEZHSVMROAS7' (nope)\n",
      "\n",
      "So it seems only the seven I listed before.\n",
      "\n",
      "But wait, another entry: after 'UNDEFINED', there's an entry where \"CIF_NO\" is 4. So that's included in my count.\n",
      "\n",
      "Wait again—another point: the initial question says \"unique CIF_NO\". If some of these are numeric and others are alphanumeric, does that affect uniqueness? I think so because each value is unique regardless of type.\n",
      "\n",
      "Therefore, my conclusion is there are seven unique CIF_NO values.\n",
      "</think>\n",
      "\n",
      "The number of unique CIF_NO values in the provided dataset is 7. These include:\n",
      "\n",
      "1. XXX-GB-CORP\n",
      "2. LLC & MNC\n",
      "3. UNDEFINED\n",
      "4. CASA\n",
      "5. 1\n",
      "6. 3\n",
      "7. 4\n",
      "\n",
      "**Answer:** There are 7 unique CIF_NO values in the dataset.\n"
     ]
    }
   ],
   "source": [
    "print(response['response'])"
   ]
  },
  {
   "cell_type": "code",
   "execution_count": null,
   "metadata": {},
   "outputs": [],
   "source": []
  },
  {
   "cell_type": "code",
   "execution_count": null,
   "metadata": {},
   "outputs": [],
   "source": [
    "from ollama import chat\n",
    "from ollama import ChatResponse\n",
    "\n",
    "response: ChatResponse = chat(model='llama3.2', messages=[\n",
    "  {\n",
    "    'role': 'user',\n",
    "    'content': 'Why is the sky blue?',\n",
    "  },\n",
    "])\n",
    "print(response['message']['content'])\n",
    "# or access fields directly from the response object\n",
    "print(response.message.content)"
   ]
  }
 ],
 "metadata": {
  "kernelspec": {
   "display_name": "base",
   "language": "python",
   "name": "python3"
  },
  "language_info": {
   "codemirror_mode": {
    "name": "ipython",
    "version": 3
   },
   "file_extension": ".py",
   "mimetype": "text/x-python",
   "name": "python",
   "nbconvert_exporter": "python",
   "pygments_lexer": "ipython3",
   "version": "3.12.8"
  }
 },
 "nbformat": 4,
 "nbformat_minor": 2
}
