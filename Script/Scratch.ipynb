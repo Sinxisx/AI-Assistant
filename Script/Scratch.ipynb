{
 "cells": [
  {
   "cell_type": "code",
   "execution_count": 1,
   "metadata": {},
   "outputs": [
    {
     "name": "stdout",
     "output_type": "stream",
     "text": [
      "<Response [200]>\n",
      "<think>\n",
      "Okay, so I need to figure out what the capital of Indonesia is. Hmm, let me think about this. I'm not entirely sure, but I'll try to recall any information I have.\n",
      "\n",
      "I remember that Indonesia is a country in Southeast Asia. It's an archipelago, right? With many islands and a lot of diverse cultures. Now, capitals... capitals are usually the main cities where governments or administrative centers are located.\n",
      "\n",
      "I think Jakarta might be the capital. Wait, isn't Jakarta a big city in Indonesia? I've heard of it being mentioned in news about Southeast Asia. But I'm not 100% certain. Let me try to reason this out.\n",
      "\n",
      "Indonesia is the largest archipelago country in the world, so having a major hub like Jakarta makes sense as a capital. It's probably the economic and political center. I also recall that Jakarta has a lot of history and significance for Indonesia.\n",
      "\n",
      "Alternatively, I might be confusing it with other capitals. For example, Singapore's capital is Singapore itself, which is different. Maybe Malaysia? Their capital is Kuala Lumpur, but that's not correct because Indonesia is a separate country.\n",
      "\n",
      "Wait, no, the user is asking about Indonesia specifically. So Jakarta must be the capital. I think that's correct, but I should double-check in case I'm mixing it up with another country.\n",
      "\n",
      "Another approach: sometimes countries have capitals that are not their largest city, but for political reasons. But in most cases, especially for large countries like Indonesia, the capital is usually the largest or most significant city. So Jakarta fits that description.\n",
      "\n",
      "I also remember hearing about Jakarta's role in regional politics and economics, which supports it being the capital. So, putting this all together, I'm pretty confident that Jakarta is indeed the capital of Indonesia.\n",
      "</think>\n",
      "\n",
      "The capital of Indonesia is **Jakarta**.\n"
     ]
    }
   ],
   "source": [
    "import requests\n",
    "\n",
    "# Define the API endpoint\n",
    "api_url = \"http://localhost:11434/api/chat\"\n",
    "\n",
    "# Initialize conversation history\n",
    "conversation_history = [\n",
    "    {\"role\": \"system\", \"content\": \"You are a helpful assistant.\"}\n",
    "]\n",
    "\n",
    "# Function to send a message to the model\n",
    "def send_message(user_input):\n",
    "    # Add user input to the conversation history\n",
    "    conversation_history.append({\"role\": \"user\", \"content\": user_input})\n",
    "    \n",
    "    # Prepare the payload\n",
    "    payload = {\n",
    "        \"model\": \"deepseek-r1:8b\",\n",
    "        \"messages\": conversation_history,\n",
    "        \"stream\": False\n",
    "    }\n",
    "    \n",
    "    # Send the request to the API\n",
    "    response = requests.post(api_url, json=payload)\n",
    "    \n",
    "    # Get the model's reply\n",
    "    model_reply = response.json()[\"message\"][\"content\"]\n",
    "    \n",
    "    # Add the model's reply to the conversation history\n",
    "    conversation_history.append({\"role\": \"assistant\", \"content\": model_reply})\n",
    "    \n",
    "    return model_reply\n",
    "\n",
    "# Example usage\n",
    "user_input = \"What is the capital of indonesia?\"\n",
    "reply = send_message(user_input)\n",
    "print(reply)"
   ]
  },
  {
   "cell_type": "code",
   "execution_count": null,
   "metadata": {},
   "outputs": [],
   "source": [
    "model_re"
   ]
  }
 ],
 "metadata": {
  "kernelspec": {
   "display_name": "base",
   "language": "python",
   "name": "python3"
  },
  "language_info": {
   "codemirror_mode": {
    "name": "ipython",
    "version": 3
   },
   "file_extension": ".py",
   "mimetype": "text/x-python",
   "name": "python",
   "nbconvert_exporter": "python",
   "pygments_lexer": "ipython3",
   "version": "3.12.8"
  }
 },
 "nbformat": 4,
 "nbformat_minor": 2
}
