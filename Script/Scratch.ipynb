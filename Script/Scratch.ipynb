{
 "cells": [
  {
   "cell_type": "markdown",
   "metadata": {},
   "source": [
    "# Trying Ollama API"
   ]
  },
  {
   "cell_type": "code",
   "execution_count": 1,
   "metadata": {},
   "outputs": [
    {
     "name": "stdout",
     "output_type": "stream",
     "text": [
      "<Response [200]>\n",
      "<think>\n",
      "Okay, so I need to figure out what the capital of Indonesia is. Hmm, let me think about this. I'm not entirely sure, but I'll try to recall any information I have.\n",
      "\n",
      "I remember that Indonesia is a country in Southeast Asia. It's an archipelago, right? With many islands and a lot of diverse cultures. Now, capitals... capitals are usually the main cities where governments or administrative centers are located.\n",
      "\n",
      "I think Jakarta might be the capital. Wait, isn't Jakarta a big city in Indonesia? I've heard of it being mentioned in news about Southeast Asia. But I'm not 100% certain. Let me try to reason this out.\n",
      "\n",
      "Indonesia is the largest archipelago country in the world, so having a major hub like Jakarta makes sense as a capital. It's probably the economic and political center. I also recall that Jakarta has a lot of history and significance for Indonesia.\n",
      "\n",
      "Alternatively, I might be confusing it with other capitals. For example, Singapore's capital is Singapore itself, which is different. Maybe Malaysia? Their capital is Kuala Lumpur, but that's not correct because Indonesia is a separate country.\n",
      "\n",
      "Wait, no, the user is asking about Indonesia specifically. So Jakarta must be the capital. I think that's correct, but I should double-check in case I'm mixing it up with another country.\n",
      "\n",
      "Another approach: sometimes countries have capitals that are not their largest city, but for political reasons. But in most cases, especially for large countries like Indonesia, the capital is usually the largest or most significant city. So Jakarta fits that description.\n",
      "\n",
      "I also remember hearing about Jakarta's role in regional politics and economics, which supports it being the capital. So, putting this all together, I'm pretty confident that Jakarta is indeed the capital of Indonesia.\n",
      "</think>\n",
      "\n",
      "The capital of Indonesia is **Jakarta**.\n"
     ]
    }
   ],
   "source": [
    "import requests\n",
    "\n",
    "# Define the API endpoint\n",
    "api_url = \"http://localhost:11434/api/chat\"\n",
    "\n",
    "# Initialize conversation history\n",
    "conversation_history = [\n",
    "    {\"role\": \"system\", \"content\": \"You are a helpful assistant.\"}\n",
    "]\n",
    "\n",
    "# Function to send a message to the model\n",
    "def send_message(user_input):\n",
    "    # Add user input to the conversation history\n",
    "    conversation_history.append({\"role\": \"user\", \"content\": user_input})\n",
    "    \n",
    "    # Prepare the payload\n",
    "    payload = {\n",
    "        \"model\": \"deepseek-r1:8b\",\n",
    "        \"messages\": conversation_history,\n",
    "        \"stream\": False\n",
    "    }\n",
    "    \n",
    "    # Send the request to the API\n",
    "    response = requests.post(api_url, json=payload)\n",
    "    \n",
    "    # Get the model's reply\n",
    "    model_reply = response.json()[\"message\"][\"content\"]\n",
    "    \n",
    "    # Add the model's reply to the conversation history\n",
    "    conversation_history.append({\"role\": \"assistant\", \"content\": model_reply})\n",
    "    \n",
    "    return model_reply\n",
    "\n",
    "# Example usage\n",
    "user_input = \"What is the capital of indonesia?\"\n",
    "reply = send_message(user_input)\n",
    "print(reply)"
   ]
  },
  {
   "cell_type": "markdown",
   "metadata": {},
   "source": [
    "# Trying Middleware API"
   ]
  },
  {
   "cell_type": "markdown",
   "metadata": {},
   "source": [
    "## 0. Wrap in function"
   ]
  },
  {
   "cell_type": "code",
   "execution_count": 6,
   "metadata": {},
   "outputs": [],
   "source": [
    "def query_database(sql_query):\n",
    "    API_URL = \"http://127.0.0.1:8000/query\"\n",
    "    response = requests.post(API_URL, json={\"query\": sql_query})\n",
    "    return response.json()\n"
   ]
  },
  {
   "cell_type": "code",
   "execution_count": 7,
   "metadata": {},
   "outputs": [
    {
     "name": "stdout",
     "output_type": "stream",
     "text": [
      "{'data': [{'BASE_DT': 20240328, 'BASE_DT_PARSED': '2024-03-28', 'BASE_YM': 202403, 'AGREE_ID': 'GCGRPBYIRBO9Z70C', 'FLAG': 'Conven', 'REGION': 'JAKARTA 2', 'AREA': 'EKAJIWA', 'BRANCH': 'KCP ITC MANGGA DUA', 'CIF_NO': '5521837145', 'CUST_TYPE': None, 'PROD_NM': None, 'SUB_PROD_NM': None, 'SEGMENT': 'XXX-GB-CORP', 'GCIF_NAME': 'KSVBISEN', 'PROD_TYPE': 'CA', 'CURR_CODE': 'IDR', 'COLT': None, 'RATE_DPK': 0.0, 'BASE_AMT_FIX': 1327759.53, 'MTD_AVG_AMT_FIX': None, 'DTD': 0.0, 'MTD': -55000.0, 'YTD': -155000.0, 'DIVISION': 'LLC & MNC', 'SOURCE': 'TBL_BAL', 'SEGMENT_FIX': 'GB-CORP', 'BASE_AMT_ACCUM_MTD': None, 'INT_EXP_ACCUM_MTD': None, 'COF_MTD': None, 'HIGH_COF_FLAG': None, 'LOB_SORT': 4, 'CASA_TD': None, 'DTD_10B': 'NO', 'MTD_10B': 'NO', 'BLOCK': None}, {'BASE_DT': 20241231, 'BASE_DT_PARSED': '2024-12-31', 'BASE_YM': 202412, 'AGREE_ID': '48FYM9RO01CWKWD4', 'FLAG': 'Conven', 'REGION': 'KALIMANTAN', 'AREA': 'PONTIANAK', 'BRANCH': 'KCI PONTIANAK', 'CIF_NO': '8947032348', 'CUST_TYPE': None, 'PROD_NM': None, 'SUB_PROD_NM': None, 'SEGMENT': 'CFS-NONRB-RSME', 'GCIF_NAME': 'CACGNZWLMJ', 'PROD_TYPE': 'CA', 'CURR_CODE': 'IDR', 'COLT': None, 'RATE_DPK': 0.0, 'BASE_AMT_FIX': 0.0, 'MTD_AVG_AMT_FIX': None, 'DTD': 0.0, 'MTD': 0.0, 'YTD': 0.0, 'DIVISION': None, 'SOURCE': 'TBL_BAL', 'SEGMENT_FIX': 'CFS-SMER & MICRO', 'BASE_AMT_ACCUM_MTD': 0.0, 'INT_EXP_ACCUM_MTD': 0.0, 'COF_MTD': 0.0, 'HIGH_COF_FLAG': 'NORMAL (IDR ≤1.5% & USD ≤0.25%)', 'LOB_SORT': 1, 'CASA_TD': None, 'DTD_10B': 'NO', 'MTD_10B': 'NO', 'BLOCK': None}, {'BASE_DT': 20240131, 'BASE_DT_PARSED': '2024-01-31', 'BASE_YM': 202401, 'AGREE_ID': 'I045VC75JBWAC516', 'FLAG': 'Sharia', 'REGION': 'JATIM, BALI & NUSRA', 'AREA': 'JATIM 1', 'BRANCH': 'KCS MALANG', 'CIF_NO': '2817548436', 'CUST_TYPE': None, 'PROD_NM': None, 'SUB_PROD_NM': None, 'SEGMENT': 'CFS-NONRB-RSME', 'GCIF_NAME': 'KEPMPF', 'PROD_TYPE': 'CA', 'CURR_CODE': 'IDR', 'COLT': None, 'RATE_DPK': 0.0025, 'BASE_AMT_FIX': 20227332.0, 'MTD_AVG_AMT_FIX': None, 'DTD': 2902.0, 'MTD': 2902.0, 'YTD': 2902.0, 'DIVISION': None, 'SOURCE': 'TBL_BAL', 'SEGMENT_FIX': 'CFS-SMER & MICRO', 'BASE_AMT_ACCUM_MTD': None, 'INT_EXP_ACCUM_MTD': None, 'COF_MTD': None, 'HIGH_COF_FLAG': None, 'LOB_SORT': 1, 'CASA_TD': None, 'DTD_10B': 'NO', 'MTD_10B': 'NO', 'BLOCK': None}, {'BASE_DT': 20240830, 'BASE_DT_PARSED': '2024-08-30', 'BASE_YM': 202408, 'AGREE_ID': '3VHH4OWWR3VZEMOU', 'FLAG': 'Conven', 'REGION': 'JAKARTA 2', 'AREA': 'PLUIT', 'BRANCH': 'KCP TELUK GONG', 'CIF_NO': '0365987803', 'CUST_TYPE': None, 'PROD_NM': None, 'SUB_PROD_NM': None, 'SEGMENT': 'CFS-NONRB-RSME', 'GCIF_NAME': 'XYDXGY', 'PROD_TYPE': 'CA', 'CURR_CODE': 'IDR', 'COLT': None, 'RATE_DPK': 0.0, 'BASE_AMT_FIX': 0.0, 'MTD_AVG_AMT_FIX': None, 'DTD': 0.0, 'MTD': 0.0, 'YTD': 0.0, 'DIVISION': None, 'SOURCE': 'TBL_BAL', 'SEGMENT_FIX': 'CFS-SMER & MICRO', 'BASE_AMT_ACCUM_MTD': None, 'INT_EXP_ACCUM_MTD': None, 'COF_MTD': None, 'HIGH_COF_FLAG': 'NORMAL COF', 'LOB_SORT': 1, 'CASA_TD': None, 'DTD_10B': 'NO', 'MTD_10B': 'NO', 'BLOCK': None}, {'BASE_DT': 20250115, 'BASE_DT_PARSED': '2025-01-15', 'BASE_YM': 202501, 'AGREE_ID': 'PPVV3JR6JGN0082V', 'FLAG': 'Sharia', 'REGION': 'JAKARTA 3', 'AREA': 'BOGOR', 'BRANCH': 'KCP KOTA WISATA', 'CIF_NO': '6211345727', 'CUST_TYPE': 'NON INDV', 'PROD_NM': 'Maybank Giro iB', 'SUB_PROD_NM': 'Maybank Giro iB', 'SEGMENT': 'CFS-NONRB-RSME', 'GCIF_NAME': 'IMWKMOYUIS', 'PROD_TYPE': 'CA', 'CURR_CODE': 'IDR', 'COLT': None, 'RATE_DPK': 0.001, 'BASE_AMT_FIX': 0.0, 'MTD_AVG_AMT_FIX': 0.0, 'DTD': 0.0, 'MTD': 0.0, 'YTD': 0.0, 'DIVISION': 'UNDEFINED', 'SOURCE': 'TBL_BAL', 'SEGMENT_FIX': 'CFS-SMER & MICRO', 'BASE_AMT_ACCUM_MTD': 0.0, 'INT_EXP_ACCUM_MTD': 0.0, 'COF_MTD': 0.0, 'HIGH_COF_FLAG': 'NORMAL COF (IDR â‰¤1.5%&USD â‰¤0.25%)', 'LOB_SORT': 1, 'CASA_TD': 'CASA', 'DTD_10B': 'NO', 'MTD_10B': 'NO', 'BLOCK': None}]}\n"
     ]
    }
   ],
   "source": [
    "# Example Usage\n",
    "print(query_database(\"SELECT * FROM master_funding LIMIT 5\"))"
   ]
  },
  {
   "cell_type": "markdown",
   "metadata": {},
   "source": [
    "## 1. Synchronous"
   ]
  },
  {
   "cell_type": "code",
   "execution_count": 10,
   "metadata": {},
   "outputs": [
    {
     "name": "stdout",
     "output_type": "stream",
     "text": [
      "Response Data: {'data': [{'BASE_DT': 20240328, 'BASE_DT_PARSED': '2024-03-28', 'BASE_YM': 202403, 'AGREE_ID': 'GCGRPBYIRBO9Z70C', 'FLAG': 'Conven', 'REGION': 'JAKARTA 2', 'AREA': 'EKAJIWA', 'BRANCH': 'KCP ITC MANGGA DUA', 'CIF_NO': '5521837145', 'CUST_TYPE': None, 'PROD_NM': None, 'SUB_PROD_NM': None, 'SEGMENT': 'XXX-GB-CORP', 'GCIF_NAME': 'KSVBISEN', 'PROD_TYPE': 'CA', 'CURR_CODE': 'IDR', 'COLT': None, 'RATE_DPK': 0.0, 'BASE_AMT_FIX': 1327759.53, 'MTD_AVG_AMT_FIX': None, 'DTD': 0.0, 'MTD': -55000.0, 'YTD': -155000.0, 'DIVISION': 'LLC & MNC', 'SOURCE': 'TBL_BAL', 'SEGMENT_FIX': 'GB-CORP', 'BASE_AMT_ACCUM_MTD': None, 'INT_EXP_ACCUM_MTD': None, 'COF_MTD': None, 'HIGH_COF_FLAG': None, 'LOB_SORT': 4, 'CASA_TD': None, 'DTD_10B': 'NO', 'MTD_10B': 'NO', 'BLOCK': None}, {'BASE_DT': 20241231, 'BASE_DT_PARSED': '2024-12-31', 'BASE_YM': 202412, 'AGREE_ID': '48FYM9RO01CWKWD4', 'FLAG': 'Conven', 'REGION': 'KALIMANTAN', 'AREA': 'PONTIANAK', 'BRANCH': 'KCI PONTIANAK', 'CIF_NO': '8947032348', 'CUST_TYPE': None, 'PROD_NM': None, 'SUB_PROD_NM': None, 'SEGMENT': 'CFS-NONRB-RSME', 'GCIF_NAME': 'CACGNZWLMJ', 'PROD_TYPE': 'CA', 'CURR_CODE': 'IDR', 'COLT': None, 'RATE_DPK': 0.0, 'BASE_AMT_FIX': 0.0, 'MTD_AVG_AMT_FIX': None, 'DTD': 0.0, 'MTD': 0.0, 'YTD': 0.0, 'DIVISION': None, 'SOURCE': 'TBL_BAL', 'SEGMENT_FIX': 'CFS-SMER & MICRO', 'BASE_AMT_ACCUM_MTD': 0.0, 'INT_EXP_ACCUM_MTD': 0.0, 'COF_MTD': 0.0, 'HIGH_COF_FLAG': 'NORMAL (IDR ≤1.5% & USD ≤0.25%)', 'LOB_SORT': 1, 'CASA_TD': None, 'DTD_10B': 'NO', 'MTD_10B': 'NO', 'BLOCK': None}, {'BASE_DT': 20240131, 'BASE_DT_PARSED': '2024-01-31', 'BASE_YM': 202401, 'AGREE_ID': 'I045VC75JBWAC516', 'FLAG': 'Sharia', 'REGION': 'JATIM, BALI & NUSRA', 'AREA': 'JATIM 1', 'BRANCH': 'KCS MALANG', 'CIF_NO': '2817548436', 'CUST_TYPE': None, 'PROD_NM': None, 'SUB_PROD_NM': None, 'SEGMENT': 'CFS-NONRB-RSME', 'GCIF_NAME': 'KEPMPF', 'PROD_TYPE': 'CA', 'CURR_CODE': 'IDR', 'COLT': None, 'RATE_DPK': 0.0025, 'BASE_AMT_FIX': 20227332.0, 'MTD_AVG_AMT_FIX': None, 'DTD': 2902.0, 'MTD': 2902.0, 'YTD': 2902.0, 'DIVISION': None, 'SOURCE': 'TBL_BAL', 'SEGMENT_FIX': 'CFS-SMER & MICRO', 'BASE_AMT_ACCUM_MTD': None, 'INT_EXP_ACCUM_MTD': None, 'COF_MTD': None, 'HIGH_COF_FLAG': None, 'LOB_SORT': 1, 'CASA_TD': None, 'DTD_10B': 'NO', 'MTD_10B': 'NO', 'BLOCK': None}, {'BASE_DT': 20240830, 'BASE_DT_PARSED': '2024-08-30', 'BASE_YM': 202408, 'AGREE_ID': '3VHH4OWWR3VZEMOU', 'FLAG': 'Conven', 'REGION': 'JAKARTA 2', 'AREA': 'PLUIT', 'BRANCH': 'KCP TELUK GONG', 'CIF_NO': '0365987803', 'CUST_TYPE': None, 'PROD_NM': None, 'SUB_PROD_NM': None, 'SEGMENT': 'CFS-NONRB-RSME', 'GCIF_NAME': 'XYDXGY', 'PROD_TYPE': 'CA', 'CURR_CODE': 'IDR', 'COLT': None, 'RATE_DPK': 0.0, 'BASE_AMT_FIX': 0.0, 'MTD_AVG_AMT_FIX': None, 'DTD': 0.0, 'MTD': 0.0, 'YTD': 0.0, 'DIVISION': None, 'SOURCE': 'TBL_BAL', 'SEGMENT_FIX': 'CFS-SMER & MICRO', 'BASE_AMT_ACCUM_MTD': None, 'INT_EXP_ACCUM_MTD': None, 'COF_MTD': None, 'HIGH_COF_FLAG': 'NORMAL COF', 'LOB_SORT': 1, 'CASA_TD': None, 'DTD_10B': 'NO', 'MTD_10B': 'NO', 'BLOCK': None}, {'BASE_DT': 20250115, 'BASE_DT_PARSED': '2025-01-15', 'BASE_YM': 202501, 'AGREE_ID': 'PPVV3JR6JGN0082V', 'FLAG': 'Sharia', 'REGION': 'JAKARTA 3', 'AREA': 'BOGOR', 'BRANCH': 'KCP KOTA WISATA', 'CIF_NO': '6211345727', 'CUST_TYPE': 'NON INDV', 'PROD_NM': 'Maybank Giro iB', 'SUB_PROD_NM': 'Maybank Giro iB', 'SEGMENT': 'CFS-NONRB-RSME', 'GCIF_NAME': 'IMWKMOYUIS', 'PROD_TYPE': 'CA', 'CURR_CODE': 'IDR', 'COLT': None, 'RATE_DPK': 0.001, 'BASE_AMT_FIX': 0.0, 'MTD_AVG_AMT_FIX': 0.0, 'DTD': 0.0, 'MTD': 0.0, 'YTD': 0.0, 'DIVISION': 'UNDEFINED', 'SOURCE': 'TBL_BAL', 'SEGMENT_FIX': 'CFS-SMER & MICRO', 'BASE_AMT_ACCUM_MTD': 0.0, 'INT_EXP_ACCUM_MTD': 0.0, 'COF_MTD': 0.0, 'HIGH_COF_FLAG': 'NORMAL COF (IDR â‰¤1.5%&USD â‰¤0.25%)', 'LOB_SORT': 1, 'CASA_TD': 'CASA', 'DTD_10B': 'NO', 'MTD_10B': 'NO', 'BLOCK': None}]}\n"
     ]
    }
   ],
   "source": [
    "import requests\n",
    "\n",
    "# API URL\n",
    "API_URL = \"http://127.0.0.1:8000/query\"\n",
    "\n",
    "# Example SQL query\n",
    "query_data = {\"query\": \"SELECT * FROM master_funding LIMIT 5\"}\n",
    "\n",
    "# Send a POST request\n",
    "response = requests.post(API_URL, json=query_data)\n",
    "\n",
    "# Print response\n",
    "if response.status_code == 200:\n",
    "    print(\"Response Data:\", response.json())\n",
    "else:\n",
    "    print(\"Error:\", response.status_code, response.text)\n"
   ]
  },
  {
   "cell_type": "markdown",
   "metadata": {},
   "source": [
    "## 2. Asynchronous"
   ]
  },
  {
   "cell_type": "code",
   "execution_count": 3,
   "metadata": {},
   "outputs": [
    {
     "ename": "RuntimeError",
     "evalue": "asyncio.run() cannot be called from a running event loop",
     "output_type": "error",
     "traceback": [
      "\u001b[1;31m---------------------------------------------------------------------------\u001b[0m",
      "\u001b[1;31mRuntimeError\u001b[0m                              Traceback (most recent call last)",
      "Cell \u001b[1;32mIn[3], line 14\u001b[0m\n\u001b[0;32m     11\u001b[0m         \u001b[38;5;28;01melse\u001b[39;00m:\n\u001b[0;32m     12\u001b[0m             \u001b[38;5;28mprint\u001b[39m(\u001b[38;5;124m\"\u001b[39m\u001b[38;5;124mError:\u001b[39m\u001b[38;5;124m\"\u001b[39m, response\u001b[38;5;241m.\u001b[39mstatus_code, response\u001b[38;5;241m.\u001b[39mtext)\n\u001b[1;32m---> 14\u001b[0m asyncio\u001b[38;5;241m.\u001b[39mrun(fetch_data())\n",
      "File \u001b[1;32mc:\\Users\\muham\\anaconda3\\Lib\\asyncio\\runners.py:190\u001b[0m, in \u001b[0;36mrun\u001b[1;34m(main, debug, loop_factory)\u001b[0m\n\u001b[0;32m    161\u001b[0m \u001b[38;5;250m\u001b[39m\u001b[38;5;124;03m\"\"\"Execute the coroutine and return the result.\u001b[39;00m\n\u001b[0;32m    162\u001b[0m \n\u001b[0;32m    163\u001b[0m \u001b[38;5;124;03mThis function runs the passed coroutine, taking care of\u001b[39;00m\n\u001b[1;32m   (...)\u001b[0m\n\u001b[0;32m    186\u001b[0m \u001b[38;5;124;03m    asyncio.run(main())\u001b[39;00m\n\u001b[0;32m    187\u001b[0m \u001b[38;5;124;03m\"\"\"\u001b[39;00m\n\u001b[0;32m    188\u001b[0m \u001b[38;5;28;01mif\u001b[39;00m events\u001b[38;5;241m.\u001b[39m_get_running_loop() \u001b[38;5;129;01mis\u001b[39;00m \u001b[38;5;129;01mnot\u001b[39;00m \u001b[38;5;28;01mNone\u001b[39;00m:\n\u001b[0;32m    189\u001b[0m     \u001b[38;5;66;03m# fail fast with short traceback\u001b[39;00m\n\u001b[1;32m--> 190\u001b[0m     \u001b[38;5;28;01mraise\u001b[39;00m \u001b[38;5;167;01mRuntimeError\u001b[39;00m(\n\u001b[0;32m    191\u001b[0m         \u001b[38;5;124m\"\u001b[39m\u001b[38;5;124masyncio.run() cannot be called from a running event loop\u001b[39m\u001b[38;5;124m\"\u001b[39m)\n\u001b[0;32m    193\u001b[0m \u001b[38;5;28;01mwith\u001b[39;00m Runner(debug\u001b[38;5;241m=\u001b[39mdebug, loop_factory\u001b[38;5;241m=\u001b[39mloop_factory) \u001b[38;5;28;01mas\u001b[39;00m runner:\n\u001b[0;32m    194\u001b[0m     \u001b[38;5;28;01mreturn\u001b[39;00m runner\u001b[38;5;241m.\u001b[39mrun(main)\n",
      "\u001b[1;31mRuntimeError\u001b[0m: asyncio.run() cannot be called from a running event loop"
     ]
    }
   ],
   "source": [
    "import httpx\n",
    "import asyncio\n",
    "\n",
    "API_URL = \"http://127.0.0.1:8000/query\"\n",
    "\n",
    "async def fetch_data():\n",
    "    async with httpx.AsyncClient() as client:\n",
    "        response = await client.post(API_URL, json={\"query\": \"SELECT BASE_YM FROM master_funding LIMIT 5\"})\n",
    "        if response.status_code == 200:\n",
    "            print(\"Response Data:\", response.json())\n",
    "        else:\n",
    "            print(\"Error:\", response.status_code, response.text)\n",
    "\n",
    "asyncio.run(fetch_data())\n"
   ]
  }
 ],
 "metadata": {
  "kernelspec": {
   "display_name": "base",
   "language": "python",
   "name": "python3"
  },
  "language_info": {
   "codemirror_mode": {
    "name": "ipython",
    "version": 3
   },
   "file_extension": ".py",
   "mimetype": "text/x-python",
   "name": "python",
   "nbconvert_exporter": "python",
   "pygments_lexer": "ipython3",
   "version": "3.12.8"
  }
 },
 "nbformat": 4,
 "nbformat_minor": 2
}
