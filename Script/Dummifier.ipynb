{
 "cells": [
  {
   "cell_type": "code",
   "execution_count": 1,
   "metadata": {},
   "outputs": [],
   "source": [
    "import pandas as pd\n",
    "import os\n",
    "import glob\n",
    "import string\n",
    "import random\n",
    "import psycopg2\n",
    "from sqlalchemy import create_engine\n"
   ]
  },
  {
   "cell_type": "markdown",
   "metadata": {},
   "source": [
    "# 0. Define Random String Generator"
   ]
  },
  {
   "cell_type": "code",
   "execution_count": 2,
   "metadata": {},
   "outputs": [],
   "source": [
    "def random_string_generator(length, character_set=string.ascii_uppercase+' '):\n",
    "    return ''.join(random.choices(character_set, k=length))"
   ]
  },
  {
   "cell_type": "markdown",
   "metadata": {},
   "source": [
    "# 1. Load Data"
   ]
  },
  {
   "cell_type": "code",
   "execution_count": 3,
   "metadata": {},
   "outputs": [],
   "source": [
    "# list all data available\n",
    "dataDir = os.getcwd().replace('Script','Data')\n",
    "files = os.listdir(dataDir)\n",
    "fileDir = [f'{dataDir}\\\\{file}' for file in files]"
   ]
  },
  {
   "cell_type": "code",
   "execution_count": 4,
   "metadata": {},
   "outputs": [],
   "source": [
    "data = pd.read_csv(fileDir[0])"
   ]
  },
  {
   "cell_type": "code",
   "execution_count": 5,
   "metadata": {},
   "outputs": [],
   "source": [
    "# drop account number and CIF NO\n",
    "data.drop(['ACCT_NO','GCIF_NO'],inplace=True,axis=1)"
   ]
  },
  {
   "cell_type": "code",
   "execution_count": 6,
   "metadata": {},
   "outputs": [],
   "source": [
    "# container for new dummy Agree_ID\n",
    "AGREE_ID = data[['AGREE_ID']].drop_duplicates()"
   ]
  },
  {
   "cell_type": "code",
   "execution_count": 7,
   "metadata": {},
   "outputs": [],
   "source": [
    "# generate dummy AGREE_ID\n",
    "dummAgreeID= []\n",
    "uniqueDummAgreID= ()\n",
    "dummLength= len(AGREE_ID.index)\n",
    "uniqueDummLength= 0\n",
    "while dummLength!= uniqueDummLength:\n",
    "    for i in range(dummLength-uniqueDummLength):\n",
    "        dummGen= random_string_generator(16,string.ascii_uppercase+string.digits)\n",
    "        dummAgreeID.append(dummGen)\n",
    "    uniqueDummAgreeID= set(dummAgreeID)\n",
    "    uniqueDummLength= len(uniqueDummAgreeID)\n",
    "    dummAgreeID=list(uniqueDummAgreeID)\n",
    "AGREE_ID['AGREE_DUMM']= dummAgreeID"
   ]
  },
  {
   "cell_type": "code",
   "execution_count": 8,
   "metadata": {},
   "outputs": [],
   "source": [
    "CIF = data[['CIF_NO','GCIF_NAME']].drop_duplicates()"
   ]
  },
  {
   "cell_type": "code",
   "execution_count": 9,
   "metadata": {},
   "outputs": [],
   "source": [
    "# generate CIF with dummy\n",
    "dummCIF= []\n",
    "uniqueDummAgreID= ()\n",
    "dummLength= len(CIF.index)\n",
    "uniqueDummLength= 0\n",
    "while dummLength!= uniqueDummLength:\n",
    "    for i in range(dummLength-uniqueDummLength):\n",
    "        dummGen= random_string_generator(10,string.digits)\n",
    "        dummCIF.append(dummGen)\n",
    "    uniqueDummCIF= set(dummCIF)\n",
    "    uniqueDummLength= len(uniqueDummCIF)\n",
    "    dummCIF=list(uniqueDummCIF)\n",
    "CIF['CIF_DUMM']= dummCIF"
   ]
  },
  {
   "cell_type": "code",
   "execution_count": 10,
   "metadata": {},
   "outputs": [],
   "source": [
    "## generate NAME with dummy\n",
    "dummNAME= []\n",
    "uniqueDummAgreID= ()\n",
    "dummLength= len(CIF.index)\n",
    "uniqueDummLength= 0\n",
    "while dummLength!= uniqueDummLength:\n",
    "    for i in range(dummLength-uniqueDummLength):\n",
    "        dummGen= random_string_generator(random.randint(5, 20),string.ascii_uppercase+' ')\n",
    "        dummNAME.append(dummGen)\n",
    "    uniqueDummNAME= set(dummNAME)\n",
    "    uniqueDummLength= len(uniqueDummNAME)\n",
    "    dummNAME=list(uniqueDummNAME)\n",
    "CIF['NAME_DUMM']= dummNAME"
   ]
  },
  {
   "cell_type": "code",
   "execution_count": 11,
   "metadata": {},
   "outputs": [],
   "source": [
    "data=data.merge(AGREE_ID, on='AGREE_ID', how='left')\n",
    "data=data.merge(CIF, on=['CIF_NO', 'GCIF_NAME'], how='left')"
   ]
  },
  {
   "cell_type": "code",
   "execution_count": 12,
   "metadata": {},
   "outputs": [],
   "source": [
    "data.drop(['AGREE_ID','CIF_NO','GCIF_NAME'],inplace=True, axis=1)"
   ]
  },
  {
   "cell_type": "code",
   "execution_count": 13,
   "metadata": {},
   "outputs": [],
   "source": [
    "# fixing column names\n",
    "data.columns= ['BASE_DT', 'BASE_DT_PARSED', 'BASE_YM', 'FLAG', 'REGION', 'AREA',\n",
    "       'BRANCH', 'CUST_TYPE', 'PROD_NM', 'SUB_PROD_NM', 'SEGMENT', 'PROD_TYPE',\n",
    "       'CURR_CODE', 'COLT', 'RATE_DPK', 'BASE_AMT_FIX', 'MTD_AVG_AMT_FIX',\n",
    "       'DTD', 'MTD', 'YTD', 'DIVISION', 'SOURCE', 'SEGMENT_FIX',\n",
    "       'BASE_AMT_ACCUM_MTD', 'INT_EXP_ACCUM_MTD', 'COF_MTD', 'HIGH_COF_FLAG',\n",
    "       'LOB_SORT', 'CASA_TD', 'DTD_10B', 'MTD_10B', 'BLOCK', 'AGREE_ID',\n",
    "       'CIF_NO', 'GCIF_NAME']"
   ]
  },
  {
   "cell_type": "code",
   "execution_count": 14,
   "metadata": {},
   "outputs": [],
   "source": [
    "# reorder columns because why not\n",
    "data= data[['BASE_DT', 'BASE_DT_PARSED', 'BASE_YM', 'AGREE_ID', 'FLAG', 'REGION',\n",
    "       'AREA', 'BRANCH', 'CIF_NO', 'CUST_TYPE', 'PROD_NM', 'SUB_PROD_NM',\n",
    "       'SEGMENT', 'GCIF_NAME', 'PROD_TYPE', 'CURR_CODE', 'COLT', 'RATE_DPK',\n",
    "       'BASE_AMT_FIX', 'MTD_AVG_AMT_FIX', 'DTD', 'MTD', 'YTD', 'DIVISION',\n",
    "       'SOURCE', 'SEGMENT_FIX', 'BASE_AMT_ACCUM_MTD', 'INT_EXP_ACCUM_MTD',\n",
    "       'COF_MTD', 'HIGH_COF_FLAG', 'LOB_SORT', 'CASA_TD', 'DTD_10B', 'MTD_10B',\n",
    "       'BLOCK']]"
   ]
  },
  {
   "cell_type": "markdown",
   "metadata": {},
   "source": [
    "# 2. Save to Postgres"
   ]
  },
  {
   "cell_type": "code",
   "execution_count": 15,
   "metadata": {},
   "outputs": [],
   "source": [
    "host= 'localhost'\n",
    "port= '5432'\n",
    "database= 'postgres'\n",
    "username= 'postgres'\n",
    "password= os.environ['PGPW']"
   ]
  },
  {
   "cell_type": "code",
   "execution_count": 16,
   "metadata": {},
   "outputs": [],
   "source": [
    "engine = create_engine(f\"postgresql://{username}:{password}@{host}:{port}/{database}\")"
   ]
  },
  {
   "cell_type": "code",
   "execution_count": 20,
   "metadata": {},
   "outputs": [
    {
     "data": {
      "text/plain": [
       "10000"
      ]
     },
     "execution_count": 20,
     "metadata": {},
     "output_type": "execute_result"
    }
   ],
   "source": [
    "data.to_sql(\n",
    "    name=\"MASTER_FUNDING\",\n",
    "    con=engine,\n",
    "    index=False,\n",
    "    if_exists='append',\n",
    "    method='multi'\n",
    ")"
   ]
  }
 ],
 "metadata": {
  "kernelspec": {
   "display_name": "base",
   "language": "python",
   "name": "python3"
  },
  "language_info": {
   "codemirror_mode": {
    "name": "ipython",
    "version": 3
   },
   "file_extension": ".py",
   "mimetype": "text/x-python",
   "name": "python",
   "nbconvert_exporter": "python",
   "pygments_lexer": "ipython3",
   "version": "3.12.8"
  }
 },
 "nbformat": 4,
 "nbformat_minor": 2
}
